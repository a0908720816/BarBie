{
  "nbformat": 4,
  "nbformat_minor": 0,
  "metadata": {
    "colab": {
      "provenance": [],
      "authorship_tag": "ABX9TyOFDh18lLFt/n+MDtSGdQJg",
      "include_colab_link": true
    },
    "kernelspec": {
      "name": "python3",
      "display_name": "Python 3"
    },
    "language_info": {
      "name": "python"
    }
  },
  "cells": [
    {
      "cell_type": "markdown",
      "metadata": {
        "id": "view-in-github",
        "colab_type": "text"
      },
      "source": [
        "<a href=\"https://colab.research.google.com/github/a0908720816/BarBie/blob/main/0502HW.ipynb\" target=\"_parent\"><img src=\"https://colab.research.google.com/assets/colab-badge.svg\" alt=\"Open In Colab\"/></a>"
      ]
    },
    {
      "cell_type": "code",
      "execution_count": null,
      "metadata": {
        "colab": {
          "base_uri": "https://localhost:8080/"
        },
        "id": "Dy29bnDuBnZv",
        "outputId": "22a938d1-0b64-4aa4-c746-6f8f5ec80ae3"
      },
      "outputs": [
        {
          "output_type": "stream",
          "name": "stdout",
          "text": [
            "Hello,Linguistics\n"
          ]
        }
      ],
      "source": [
        "#1\n",
        "print(\"Hello,Linguistics\")"
      ]
    },
    {
      "cell_type": "code",
      "source": [
        "#2\n",
        "sent = \"Hello,Linguistcs\"\n",
        "sent_upeer = sent.upper()\n",
        "print(sent_upeer)"
      ],
      "metadata": {
        "colab": {
          "base_uri": "https://localhost:8080/"
        },
        "id": "Z-EFtrDECHIX",
        "outputId": "19986bf9-8fc4-4c66-f093-718d7ae15f8a"
      },
      "execution_count": null,
      "outputs": [
        {
          "output_type": "stream",
          "name": "stdout",
          "text": [
            "HELLO,LINGUISTCS\n"
          ]
        }
      ]
    },
    {
      "cell_type": "code",
      "source": [
        "#3\n",
        "#3.1\n",
        "num = [3,5,1,4,2]\n",
        "print(f\"{num[0]} {num[-1]}\")"
      ],
      "metadata": {
        "colab": {
          "base_uri": "https://localhost:8080/"
        },
        "id": "-wd_JpydCbGj",
        "outputId": "f13573dd-d62b-4ded-b347-35c5f78070da"
      },
      "execution_count": null,
      "outputs": [
        {
          "output_type": "stream",
          "name": "stdout",
          "text": [
            "3 2\n"
          ]
        }
      ]
    },
    {
      "cell_type": "code",
      "source": [
        "animals_1 = [\"Dog\",\"Cat\",\"Bird\",\"Tiger\",\"Elephant\"]\n",
        "animals_2 = [\"Dog\"]\n",
        "if (len(animals_1))>2:\n",
        "         print(\"YES\")\n",
        "else:\n",
        "         print(\"NO\")"
      ],
      "metadata": {
        "colab": {
          "base_uri": "https://localhost:8080/"
        },
        "id": "jfWxPq_9C8QU",
        "outputId": "94ec2774-125b-43cc-b4b5-399e8d2d40d8"
      },
      "execution_count": null,
      "outputs": [
        {
          "output_type": "stream",
          "name": "stdout",
          "text": [
            "YES\n"
          ]
        }
      ]
    },
    {
      "cell_type": "code",
      "source": [],
      "metadata": {
        "id": "C7KcEcUCC4tH"
      },
      "execution_count": null,
      "outputs": []
    }
  ]
}